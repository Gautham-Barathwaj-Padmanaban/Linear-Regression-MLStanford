{
 "cells": [
  {
   "cell_type": "code",
   "execution_count": 200,
   "metadata": {},
   "outputs": [],
   "source": [
    "import numpy as np\n",
    "import pandas as pd\n",
    "import matplotlib.pyplot as plt\n",
    "%matplotlib inline"
   ]
  },
  {
   "cell_type": "code",
   "execution_count": 201,
   "metadata": {},
   "outputs": [],
   "source": [
    "#Computing the cost funcion\n",
    "def computeCost(theta,X,y):\n",
    "    m=len(y) #len of an array returns the number of columns of the array\n",
    "    cost=(1/(2*m))*np.sum(np.power(((X.dot(theta))-y),2)) \n",
    "    #.dot is to make sure matrix multiplication of array occurs. * is for element-wise\n",
    "    #.sum returns the summation of all elements of the array\n",
    "    return(cost)"
   ]
  },
  {
   "cell_type": "code",
   "execution_count": 202,
   "metadata": {},
   "outputs": [],
   "source": [
    "def gradientDescent(theta,X,y,alpha): #Vectorized approach for gradient descent\n",
    "    m=len(y)\n",
    "    Xt=X.transpose() #.transpose is to transpose the matrix\n",
    "    theta_new=theta-((alpha/m)*(Xt.dot((X.dot(theta))-y)))\n",
    "    return(theta_new)"
   ]
  },
  {
   "cell_type": "code",
   "execution_count": 203,
   "metadata": {},
   "outputs": [
    {
     "data": {
      "text/html": [
       "<div>\n",
       "<style scoped>\n",
       "    .dataframe tbody tr th:only-of-type {\n",
       "        vertical-align: middle;\n",
       "    }\n",
       "\n",
       "    .dataframe tbody tr th {\n",
       "        vertical-align: top;\n",
       "    }\n",
       "\n",
       "    .dataframe thead th {\n",
       "        text-align: right;\n",
       "    }\n",
       "</style>\n",
       "<table border=\"1\" class=\"dataframe\">\n",
       "  <thead>\n",
       "    <tr style=\"text-align: right;\">\n",
       "      <th></th>\n",
       "      <th>Population</th>\n",
       "      <th>Profits</th>\n",
       "    </tr>\n",
       "  </thead>\n",
       "  <tbody>\n",
       "    <tr>\n",
       "      <th>0</th>\n",
       "      <td>6.1101</td>\n",
       "      <td>17.5920</td>\n",
       "    </tr>\n",
       "    <tr>\n",
       "      <th>1</th>\n",
       "      <td>5.5277</td>\n",
       "      <td>9.1302</td>\n",
       "    </tr>\n",
       "    <tr>\n",
       "      <th>2</th>\n",
       "      <td>8.5186</td>\n",
       "      <td>13.6620</td>\n",
       "    </tr>\n",
       "    <tr>\n",
       "      <th>3</th>\n",
       "      <td>7.0032</td>\n",
       "      <td>11.8540</td>\n",
       "    </tr>\n",
       "    <tr>\n",
       "      <th>4</th>\n",
       "      <td>5.8598</td>\n",
       "      <td>6.8233</td>\n",
       "    </tr>\n",
       "  </tbody>\n",
       "</table>\n",
       "</div>"
      ],
      "text/plain": [
       "   Population  Profits\n",
       "0      6.1101  17.5920\n",
       "1      5.5277   9.1302\n",
       "2      8.5186  13.6620\n",
       "3      7.0032  11.8540\n",
       "4      5.8598   6.8233"
      ]
     },
     "execution_count": 203,
     "metadata": {},
     "output_type": "execute_result"
    },
    {
     "data": {
      "image/png": "[encoded data removed]",
      "text/plain": [
       "<matplotlib.figure.Figure at 0x1e524884cc0>"
      ]
     },
     "metadata": {},
     "output_type": "display_data"
    }
   ],
   "source": [
    "raw_data=pd.read_csv('LinRegData1-Coursera.txt') #once you use pandas you use the stored datavariable.pandasfunction for all manipulation(DataFrame)\n",
    "raw_data.plot(kind='scatter',x='Population',y='Profits',figsize=(10,5)) #x and y have to be included : the data labels as in the txt or csv file\n",
    "raw_data.head() #prints first five rows of your data"
   ]
  },
  {
   "cell_type": "code",
   "execution_count": 204,
   "metadata": {},
   "outputs": [
    {
     "data": {
      "text/html": [
       "<div>\n",
       "<style scoped>\n",
       "    .dataframe tbody tr th:only-of-type {\n",
       "        vertical-align: middle;\n",
       "    }\n",
       "\n",
       "    .dataframe tbody tr th {\n",
       "        vertical-align: top;\n",
       "    }\n",
       "\n",
       "    .dataframe thead th {\n",
       "        text-align: right;\n",
       "    }\n",
       "</style>\n",
       "<table border=\"1\" class=\"dataframe\">\n",
       "  <thead>\n",
       "    <tr style=\"text-align: right;\">\n",
       "      <th></th>\n",
       "      <th>Ones</th>\n",
       "      <th>Population</th>\n",
       "      <th>Profits</th>\n",
       "    </tr>\n",
       "  </thead>\n",
       "  <tbody>\n",
       "    <tr>\n",
       "      <th>0</th>\n",
       "      <td>1</td>\n",
       "      <td>-0.119334</td>\n",
       "      <td>0.438087</td>\n",
       "    </tr>\n",
       "    <tr>\n",
       "      <th>1</th>\n",
       "      <td>1</td>\n",
       "      <td>-0.153242</td>\n",
       "      <td>0.122674</td>\n",
       "    </tr>\n",
       "    <tr>\n",
       "      <th>2</th>\n",
       "      <td>1</td>\n",
       "      <td>0.020889</td>\n",
       "      <td>0.291597</td>\n",
       "    </tr>\n",
       "    <tr>\n",
       "      <th>3</th>\n",
       "      <td>1</td>\n",
       "      <td>-0.067338</td>\n",
       "      <td>0.224204</td>\n",
       "    </tr>\n",
       "    <tr>\n",
       "      <th>4</th>\n",
       "      <td>1</td>\n",
       "      <td>-0.133907</td>\n",
       "      <td>0.036685</td>\n",
       "    </tr>\n",
       "  </tbody>\n",
       "</table>\n",
       "</div>"
      ],
      "text/plain": [
       "   Ones  Population   Profits\n",
       "0     1   -0.119334  0.438087\n",
       "1     1   -0.153242  0.122674\n",
       "2     1    0.020889  0.291597\n",
       "3     1   -0.067338  0.224204\n",
       "4     1   -0.133907  0.036685"
      ]
     },
     "execution_count": 204,
     "metadata": {},
     "output_type": "execute_result"
    }
   ],
   "source": [
    "#Mean Normalization and inserting ones\n",
    "\n",
    "data=(raw_data-raw_data.mean())/(raw_data.max()-raw_data.min())\n",
    "#.mean,.max and .min find the mean max and min for every column in your Dataframe so you are simultaneously processing it\n",
    "data.insert(0,'Ones',1) #DataFrameName.insert(location, column name, value, allow_duplicates = False)\n",
    "data.head() #always print it at the end, else it won't come"
   ]
  },
  {
   "cell_type": "code",
   "execution_count": 205,
   "metadata": {},
   "outputs": [],
   "source": [
    "#Separating X and Y data\n",
    "\n",
    "cols=data.shape[1] #.shape is a tuple hence you call with []. 0 for row size and 1 for column size\n",
    "X=data.iloc[:,0:cols-1] #iloc can be used to access the data in various ways\n",
    "y=data.iloc[:,cols-1:cols]\n",
    "X=np.array(X)\n",
    "y=np.array(y) "
   ]
  },
  {
   "cell_type": "code",
   "execution_count": 206,
   "metadata": {},
   "outputs": [
    {
     "name": "stdout",
     "output_type": "stream",
     "text": [
      "[[  1.71683973e-16]\n",
      " [  7.59112478e-01]]\n"
     ]
    }
   ],
   "source": [
    "#Initializations\n",
    "\n",
    "iters=200 #number of iterations\n",
    "alpha=0.5 #Learning rate\n",
    "costs=np.zeros(iters+1)\n",
    "theta=np.array([[0],[0]])#a numpy array can be used as a matrix only when it is like an array in an array [[0]], and not just [0]\n",
    "\n",
    "#Learning\n",
    "costs[0]=computeCost(theta,X,y)\n",
    "for i in range(iters):\n",
    "    theta=gradientDescent(theta,X,y,alpha)\n",
    "    costs[i+1]=computeCost(theta,X,y)\n",
    "print(theta)"
   ]
  },
  {
   "cell_type": "code",
   "execution_count": 207,
   "metadata": {},
   "outputs": [
    {
     "data": {
      "text/plain": [
       "Text(0.5,1,'Cost function vs iterations')"
      ]
     },
     "execution_count": 207,
     "metadata": {},
     "output_type": "execute_result"
    },
    {
     "data": {
      "image/png": "[encoded data removed]",
      "text/plain": [
       "<matplotlib.figure.Figure at 0x1e523faa358>"
      ]
     },
     "metadata": {},
     "output_type": "display_data"
    }
   ],
   "source": [
    "#Plotting cost function versus number of iterations\n",
    "\n",
    "fig,ax=plt.subplots(figsize=(8,5))\n",
    "ax.plot(np.arange(iters+1),costs,'r',label='Cost Function') #.arange returns evenly spaced values in a given interval\n",
    "ax.set_xlabel('Iterations')\n",
    "ax.set_ylabel('Cost Function Value')\n",
    "ax.set_title('Cost function vs iterations')"
   ]
  },
  {
   "cell_type": "code",
   "execution_count": 208,
   "metadata": {},
   "outputs": [
    {
     "data": {
      "text/plain": [
       "Text(0.5,1,'Predicted Profits vs Population')"
      ]
     },
     "execution_count": 208,
     "metadata": {},
     "output_type": "execute_result"
    },
    {
     "data": {
      "image/png": "[encoded data removed]",
      "text/plain": [
       "<matplotlib.figure.Figure at 0x1e523d1ae10>"
      ]
     },
     "metadata": {},
     "output_type": "display_data"
    }
   ],
   "source": [
    "#Plotting Predicted Value vs Original Value\n",
    "\n",
    "a=np.array([[1,X.min()-0.1],[1,X.max()+0.1]])\n",
    "b=a.dot(theta)\n",
    "fig,ax=plt.subplots(figsize=(12,8))\n",
    "ax.plot(a[:,1],b,'r',label='Prediction')\n",
    "ax.scatter(data.Population,data.Profits,label='Training Data')\n",
    "ax.legend(loc=2) #Location of legends\n",
    "ax.set_xlabel('Population')\n",
    "ax.set_ylabel('Profits')\n",
    "ax.set_title('Predicted Profits vs Population')"
   ]
  },
  {
   "cell_type": "code",
   "execution_count": 209,
   "metadata": {},
   "outputs": [
    {
     "name": "stdout",
     "output_type": "stream",
     "text": [
      "error % = 1.1325498341338935\n",
      "accuracy % = 98.8674501658661\n"
     ]
    }
   ],
   "source": [
    "#Checking error and accuracy\n",
    "\n",
    "er0=((np.sqrt(costs[-1]*2*len(y)))/len(y))*100 #Error formula\n",
    "print('error % = {}'.format(er0))\n",
    "print('accuracy % = {}'.format(100-er0))"
   ]
  },
  {
   "cell_type": "code",
   "execution_count": 210,
   "metadata": {},
   "outputs": [
    {
     "name": "stdout",
     "output_type": "stream",
     "text": [
      "Enter the population of the region in 10,000s\n",
      "20\n",
      "For a population of  200000.0 , the profit gained will be  142260.23287846686\n"
     ]
    }
   ],
   "source": [
    "#Predicting new profits\n",
    "\n",
    "new_pop=float(input(\"Enter the population of the region in 10,000s\\n\")) #new population in 10,000s\n",
    "mean=raw_data.mean()\n",
    "maxi=raw_data.max()\n",
    "mini=raw_data.min()\n",
    "corrected_pop=(17-mean[0])/(maxi[0]-mini[0]) #Converting input to mean normalized input\n",
    "new_profit=(np.array([[1,corrected_pop]])).dot(theta)\n",
    "corrected_profit=(new_profit*(maxi[1]+mini[1]))+mean[1] #Converting mean normalized output to actual output\n",
    "print('For a population of ',new_pop*10000,', the profit gained will be ',float(corrected_profit)*10000,)"
   ]
  },
  {
   "cell_type": "code",
   "execution_count": null,
   "metadata": {},
   "outputs": [],
   "source": []
  }
 ],
 "metadata": {
  "kernelspec": {
   "display_name": "Python 3",
   "language": "python",
   "name": "python3"
  },
  "language_info": {
   "codemirror_mode": {
    "name": "ipython",
    "version": 3
   },
   "file_extension": ".py",
   "mimetype": "text/x-python",
   "name": "python",
   "nbconvert_exporter": "python",
   "pygments_lexer": "ipython3",
   "version": "3.6.3"
  }
 },
 "nbformat": 4,
 "nbformat_minor": 2
}
